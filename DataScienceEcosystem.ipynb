{
 "cells": [
  {
   "cell_type": "markdown",
   "id": "e32929f6-4f85-45fd-9e54-6e7f6865c845",
   "metadata": {},
   "source": [
    "<h1>Data Science Tools and Ecosystem<h1>"
   ]
  },
  {
   "cell_type": "markdown",
   "id": "5bf3887a-d2dc-470e-a9d1-93e875e92e45",
   "metadata": {},
   "source": [
    "In this notebook, Data Science Tools and Ecosystem are summarized."
   ]
  },
  {
   "cell_type": "markdown",
   "id": "770ce227-3a56-468f-8650-27c6155732ff",
   "metadata": {},
   "source": [
    "Some of the popular languages that Data Scientists use are:\n",
    "<ol>\n",
    "<li>Python</li>\n",
    "<li>R</li>\n",
    "<li>SQL</li>\n",
    "</ol>"
   ]
  },
  {
   "cell_type": "markdown",
   "id": "43a8bfea-04e4-427b-a1f1-c6a90a7da481",
   "metadata": {},
   "source": [
    "Some of the commonly used libraries used by Data Scientists include:\n",
    "<ol>\n",
    "<li>Scipy</li>\n",
    "<li>Numpy</li>\n",
    "<li>Maplotlib</li>\n",
    "</ol>"
   ]
  },
  {
   "cell_type": "markdown",
   "id": "66ad1700-a21e-40bf-9022-3052b7bdab81",
   "metadata": {},
   "source": [
    "<table>\n",
    "<tr>\n",
    "<th>Data Science Tools</th>\n",
    "</tr>\n",
    "<tr>\n",
    "<td>Spyder</td>\n",
    "</tr>\n",
    "<tr>\n",
    "<td>RStudio</td>\n",
    "</tr>\n",
    "<tr>\n",
    "<td>Jupyter</td>\n",
    "</tr>\n",
    "</table>"
   ]
  },
  {
   "cell_type": "markdown",
   "id": "52425ebe-4ad8-468b-aa25-46ff462efb71",
   "metadata": {},
   "source": [
    "<h3>Below are a few examples of evaluating arithmetic expressions in Python<h3>"
   ]
  },
  {
   "cell_type": "markdown",
   "id": "c8010de3-bbb0-4359-8389-a4704f7ef15b",
   "metadata": {},
   "source": [
    "This a simple arithmetic expression to mutiply then add integers"
   ]
  },
  {
   "cell_type": "code",
   "execution_count": 6,
   "id": "85049952-3b5d-4ebb-b8b4-195970faa27c",
   "metadata": {},
   "outputs": [
    {
     "data": {
      "text/plain": [
       "17"
      ]
     },
     "execution_count": 6,
     "metadata": {},
     "output_type": "execute_result"
    }
   ],
   "source": [
    "(3*4)+5"
   ]
  },
  {
   "cell_type": "markdown",
   "id": "0af916c2-00fc-4558-a854-f133e21ee52a",
   "metadata": {},
   "source": [
    "This will convert 200 minutes to hours by diving by 60"
   ]
  },
  {
   "cell_type": "code",
   "execution_count": 10,
   "id": "9e027d78-39ac-4cab-b0eb-7462f828c431",
   "metadata": {},
   "outputs": [
    {
     "data": {
      "text/plain": [
       "3.3"
      ]
     },
     "execution_count": 10,
     "metadata": {},
     "output_type": "execute_result"
    }
   ],
   "source": [
    "round(200/60,1)"
   ]
  },
  {
   "cell_type": "markdown",
   "id": "c80fde82-7b57-41cd-b3fb-d76da2fc9516",
   "metadata": {},
   "source": [
    "<b>Objectives:<b>"
   ]
  },
  {
   "cell_type": "markdown",
   "id": "3a12d536-df8e-4c7f-8d4a-8c0a9751a079",
   "metadata": {},
   "source": [
    "- List of popular languages for Data Science\n",
    "- List of libraries used by Data Scientists\n",
    "- List of libraries used by Data Scientists \n"
   ]
  },
  {
   "cell_type": "markdown",
   "id": "0235bd77-7c11-4875-87a5-6ef9cb38d750",
   "metadata": {},
   "source": [
    "<h2>Author<h2>"
   ]
  },
  {
   "cell_type": "markdown",
   "id": "e9436c1b-62eb-481a-9068-bab5cf04d7c7",
   "metadata": {},
   "source": [
    "Mohamed KADIRI"
   ]
  }
 ],
 "metadata": {
  "kernelspec": {
   "display_name": "Python 3 (ipykernel)",
   "language": "python",
   "name": "python3"
  },
  "language_info": {
   "codemirror_mode": {
    "name": "ipython",
    "version": 3
   },
   "file_extension": ".py",
   "mimetype": "text/x-python",
   "name": "python",
   "nbconvert_exporter": "python",
   "pygments_lexer": "ipython3",
   "version": "3.12.8"
  }
 },
 "nbformat": 4,
 "nbformat_minor": 5
}
